{
  "nbformat": 4,
  "nbformat_minor": 0,
  "metadata": {
    "colab": {
      "provenance": []
    },
    "kernelspec": {
      "name": "python3",
      "display_name": "Python 3"
    },
    "language_info": {
      "name": "python"
    },
    "accelerator": "GPU",
    "gpuClass": "standard"
  },
  "cells": [
    {
      "cell_type": "markdown",
      "source": [
        "# Setup and Installations"
      ],
      "metadata": {
        "id": "D4PNCoCdzItK"
      }
    },
    {
      "cell_type": "code",
      "execution_count": null,
      "metadata": {
        "id": "xjE6CQwQTDlj"
      },
      "outputs": [],
      "source": [
        "import torch\n",
        "import torch.nn.functional as F\n",
        "import torchvision.models as models\n",
        "import numpy as np\n",
        "from time import perf_counter\n",
        "from copy import deepcopy\n",
        "\n",
        "def timer(f,*args):   \n",
        "    start = perf_counter()\n",
        "    f(*args)\n",
        "    return (1000 * (perf_counter() - start))\n",
        "\n",
        "\n",
        "\n"
      ]
    },
    {
      "cell_type": "markdown",
      "source": [
        "# Model and Data Load"
      ],
      "metadata": {
        "id": "ip56XQ8SzNJA"
      }
    },
    {
      "cell_type": "code",
      "source": [
        "model = models.resnet18(pretrained=True)       # We now have an instance of the pretrained model"
      ],
      "metadata": {
        "colab": {
          "base_uri": "https://localhost:8080/"
        },
        "id": "OBVKNyUhXBxt",
        "outputId": "260a6578-77c0-428a-b856-d9c0d63f7543"
      },
      "execution_count": null,
      "outputs": [
        {
          "output_type": "stream",
          "name": "stderr",
          "text": [
            "/usr/local/lib/python3.9/dist-packages/torchvision/models/_utils.py:208: UserWarning: The parameter 'pretrained' is deprecated since 0.13 and may be removed in the future, please use 'weights' instead.\n",
            "  warnings.warn(\n",
            "/usr/local/lib/python3.9/dist-packages/torchvision/models/_utils.py:223: UserWarning: Arguments other than a weight enum or `None` for 'weights' are deprecated since 0.13 and may be removed in the future. The current behavior is equivalent to passing `weights=ResNet18_Weights.IMAGENET1K_V1`. You can also use `weights=ResNet18_Weights.DEFAULT` to get the most up-to-date weights.\n",
            "  warnings.warn(msg)\n"
          ]
        }
      ]
    },
    {
      "cell_type": "code",
      "source": [
        "model.eval()"
      ],
      "metadata": {
        "colab": {
          "base_uri": "https://localhost:8080/"
        },
        "id": "XHmzxAkuUwv3",
        "outputId": "fde3501f-3de7-492e-bc3f-75ff952dbeaf"
      },
      "execution_count": null,
      "outputs": [
        {
          "output_type": "execute_result",
          "data": {
            "text/plain": [
              "ResNet(\n",
              "  (conv1): Conv2d(3, 64, kernel_size=(7, 7), stride=(2, 2), padding=(3, 3), bias=False)\n",
              "  (bn1): BatchNorm2d(64, eps=1e-05, momentum=0.1, affine=True, track_running_stats=True)\n",
              "  (relu): ReLU(inplace=True)\n",
              "  (maxpool): MaxPool2d(kernel_size=3, stride=2, padding=1, dilation=1, ceil_mode=False)\n",
              "  (layer1): Sequential(\n",
              "    (0): BasicBlock(\n",
              "      (conv1): Conv2d(64, 64, kernel_size=(3, 3), stride=(1, 1), padding=(1, 1), bias=False)\n",
              "      (bn1): BatchNorm2d(64, eps=1e-05, momentum=0.1, affine=True, track_running_stats=True)\n",
              "      (relu): ReLU(inplace=True)\n",
              "      (conv2): Conv2d(64, 64, kernel_size=(3, 3), stride=(1, 1), padding=(1, 1), bias=False)\n",
              "      (bn2): BatchNorm2d(64, eps=1e-05, momentum=0.1, affine=True, track_running_stats=True)\n",
              "    )\n",
              "    (1): BasicBlock(\n",
              "      (conv1): Conv2d(64, 64, kernel_size=(3, 3), stride=(1, 1), padding=(1, 1), bias=False)\n",
              "      (bn1): BatchNorm2d(64, eps=1e-05, momentum=0.1, affine=True, track_running_stats=True)\n",
              "      (relu): ReLU(inplace=True)\n",
              "      (conv2): Conv2d(64, 64, kernel_size=(3, 3), stride=(1, 1), padding=(1, 1), bias=False)\n",
              "      (bn2): BatchNorm2d(64, eps=1e-05, momentum=0.1, affine=True, track_running_stats=True)\n",
              "    )\n",
              "  )\n",
              "  (layer2): Sequential(\n",
              "    (0): BasicBlock(\n",
              "      (conv1): Conv2d(64, 128, kernel_size=(3, 3), stride=(2, 2), padding=(1, 1), bias=False)\n",
              "      (bn1): BatchNorm2d(128, eps=1e-05, momentum=0.1, affine=True, track_running_stats=True)\n",
              "      (relu): ReLU(inplace=True)\n",
              "      (conv2): Conv2d(128, 128, kernel_size=(3, 3), stride=(1, 1), padding=(1, 1), bias=False)\n",
              "      (bn2): BatchNorm2d(128, eps=1e-05, momentum=0.1, affine=True, track_running_stats=True)\n",
              "      (downsample): Sequential(\n",
              "        (0): Conv2d(64, 128, kernel_size=(1, 1), stride=(2, 2), bias=False)\n",
              "        (1): BatchNorm2d(128, eps=1e-05, momentum=0.1, affine=True, track_running_stats=True)\n",
              "      )\n",
              "    )\n",
              "    (1): BasicBlock(\n",
              "      (conv1): Conv2d(128, 128, kernel_size=(3, 3), stride=(1, 1), padding=(1, 1), bias=False)\n",
              "      (bn1): BatchNorm2d(128, eps=1e-05, momentum=0.1, affine=True, track_running_stats=True)\n",
              "      (relu): ReLU(inplace=True)\n",
              "      (conv2): Conv2d(128, 128, kernel_size=(3, 3), stride=(1, 1), padding=(1, 1), bias=False)\n",
              "      (bn2): BatchNorm2d(128, eps=1e-05, momentum=0.1, affine=True, track_running_stats=True)\n",
              "    )\n",
              "  )\n",
              "  (layer3): Sequential(\n",
              "    (0): BasicBlock(\n",
              "      (conv1): Conv2d(128, 256, kernel_size=(3, 3), stride=(2, 2), padding=(1, 1), bias=False)\n",
              "      (bn1): BatchNorm2d(256, eps=1e-05, momentum=0.1, affine=True, track_running_stats=True)\n",
              "      (relu): ReLU(inplace=True)\n",
              "      (conv2): Conv2d(256, 256, kernel_size=(3, 3), stride=(1, 1), padding=(1, 1), bias=False)\n",
              "      (bn2): BatchNorm2d(256, eps=1e-05, momentum=0.1, affine=True, track_running_stats=True)\n",
              "      (downsample): Sequential(\n",
              "        (0): Conv2d(128, 256, kernel_size=(1, 1), stride=(2, 2), bias=False)\n",
              "        (1): BatchNorm2d(256, eps=1e-05, momentum=0.1, affine=True, track_running_stats=True)\n",
              "      )\n",
              "    )\n",
              "    (1): BasicBlock(\n",
              "      (conv1): Conv2d(256, 256, kernel_size=(3, 3), stride=(1, 1), padding=(1, 1), bias=False)\n",
              "      (bn1): BatchNorm2d(256, eps=1e-05, momentum=0.1, affine=True, track_running_stats=True)\n",
              "      (relu): ReLU(inplace=True)\n",
              "      (conv2): Conv2d(256, 256, kernel_size=(3, 3), stride=(1, 1), padding=(1, 1), bias=False)\n",
              "      (bn2): BatchNorm2d(256, eps=1e-05, momentum=0.1, affine=True, track_running_stats=True)\n",
              "    )\n",
              "  )\n",
              "  (layer4): Sequential(\n",
              "    (0): BasicBlock(\n",
              "      (conv1): Conv2d(256, 512, kernel_size=(3, 3), stride=(2, 2), padding=(1, 1), bias=False)\n",
              "      (bn1): BatchNorm2d(512, eps=1e-05, momentum=0.1, affine=True, track_running_stats=True)\n",
              "      (relu): ReLU(inplace=True)\n",
              "      (conv2): Conv2d(512, 512, kernel_size=(3, 3), stride=(1, 1), padding=(1, 1), bias=False)\n",
              "      (bn2): BatchNorm2d(512, eps=1e-05, momentum=0.1, affine=True, track_running_stats=True)\n",
              "      (downsample): Sequential(\n",
              "        (0): Conv2d(256, 512, kernel_size=(1, 1), stride=(2, 2), bias=False)\n",
              "        (1): BatchNorm2d(512, eps=1e-05, momentum=0.1, affine=True, track_running_stats=True)\n",
              "      )\n",
              "    )\n",
              "    (1): BasicBlock(\n",
              "      (conv1): Conv2d(512, 512, kernel_size=(3, 3), stride=(1, 1), padding=(1, 1), bias=False)\n",
              "      (bn1): BatchNorm2d(512, eps=1e-05, momentum=0.1, affine=True, track_running_stats=True)\n",
              "      (relu): ReLU(inplace=True)\n",
              "      (conv2): Conv2d(512, 512, kernel_size=(3, 3), stride=(1, 1), padding=(1, 1), bias=False)\n",
              "      (bn2): BatchNorm2d(512, eps=1e-05, momentum=0.1, affine=True, track_running_stats=True)\n",
              "    )\n",
              "  )\n",
              "  (avgpool): AdaptiveAvgPool2d(output_size=(1, 1))\n",
              "  (fc): Linear(in_features=512, out_features=1000, bias=True)\n",
              ")"
            ]
          },
          "metadata": {},
          "execution_count": 5
        }
      ]
    },
    {
      "cell_type": "markdown",
      "source": [
        "# Convert the Model to Torchscript"
      ],
      "metadata": {
        "id": "KhDDpx9QzRLv"
      }
    },
    {
      "cell_type": "code",
      "source": [
        "model_scripted = torch.jit.script(model)         # *** This is the TorchScript export\n",
        "dummy_input = torch.rand(1, 3, 224, 224)  "
      ],
      "metadata": {
        "id": "D8h6NkeRUxZc"
      },
      "execution_count": null,
      "outputs": []
    },
    {
      "cell_type": "markdown",
      "source": [
        "# Compare the results of Torch and TorchScript Models"
      ],
      "metadata": {
        "id": "wvp7ArZ1zUQo"
      }
    },
    {
      "cell_type": "code",
      "source": [
        "unscripted_output = model(dummy_input)         # Get the unscripted model's prediction...\n",
        "scripted_output = model_scripted(dummy_input)  # ...and do the same for the scripted version\n",
        "\n",
        "unscripted_top5 = F.softmax(unscripted_output, dim=1).topk(5).indices\n",
        "scripted_top5 = F.softmax(scripted_output, dim=1).topk(5).indices\n",
        "\n",
        "print('Python model top 5 results:\\n  {}'.format(unscripted_top5))\n",
        "print('TorchScript model top 5 results:\\n  {}'.format(scripted_top5))"
      ],
      "metadata": {
        "colab": {
          "base_uri": "https://localhost:8080/"
        },
        "id": "5vkjmR6pTH6J",
        "outputId": "9b01cec4-9a51-46b4-ca47-91009c8fb1c1"
      },
      "execution_count": null,
      "outputs": [
        {
          "output_type": "stream",
          "name": "stdout",
          "text": [
            "Python model top 5 results:\n",
            "  tensor([[418, 845, 111, 892, 644]])\n",
            "TorchScript model top 5 results:\n",
            "  tensor([[418, 845, 111, 892, 644]])\n"
          ]
        }
      ]
    },
    {
      "cell_type": "code",
      "source": [
        "model_scripted.save('model_scripted.pt')"
      ],
      "metadata": {
        "id": "sh657KJoUktV"
      },
      "execution_count": null,
      "outputs": []
    },
    {
      "cell_type": "markdown",
      "source": [
        "# Compare the runtime performance of Torch and TorchScript Model\n",
        "\n",
        "---\n",
        "\n"
      ],
      "metadata": {
        "id": "ynUfbumizZgS"
      }
    },
    {
      "cell_type": "code",
      "source": [
        "print(\"Average runtime of Pytorch Model in CPU: \" + str(np.mean([timer(model,dummy_input) for _ in range(10)])))\n",
        "print(\"Average runtime of TorchScript Model in CPU: \" + str(np.mean([timer(model_scripted,dummy_input) for _ in range(10)])))"
      ],
      "metadata": {
        "id": "S60FmdPlXIEs"
      },
      "execution_count": null,
      "outputs": []
    },
    {
      "cell_type": "markdown",
      "source": [
        "# Compare the runtime performance of Torch and TorchScript Model in GPU"
      ],
      "metadata": {
        "id": "1hQUMir8zi4_"
      }
    },
    {
      "cell_type": "code",
      "source": [
        "model_gpu = model.cuda()\n",
        "dummy_input_gpu = deepcopy(dummy_input).cuda()\n"
      ],
      "metadata": {
        "id": "zie6E48ZUm6u"
      },
      "execution_count": null,
      "outputs": []
    },
    {
      "cell_type": "code",
      "source": [
        "model_gpu.eval()"
      ],
      "metadata": {
        "id": "E1VuVrb4VUTJ"
      },
      "execution_count": null,
      "outputs": []
    },
    {
      "cell_type": "code",
      "source": [
        "model_scripted_gpu = torch.jit.script(model_gpu)"
      ],
      "metadata": {
        "id": "AHyR0oAIVffP"
      },
      "execution_count": null,
      "outputs": []
    },
    {
      "cell_type": "code",
      "source": [
        "print(\"Average runtime of Pytorch Model in GPU: \" + str(np.mean([timer(model_gpu,dummy_input_gpu) for _ in range(10)])))\n",
        "print(\"Average runtime of TorchScript Model in GPU: \" + str(np.mean([timer(model_scripted_gpu,dummy_input_gpu) for _ in range(100)])))"
      ],
      "metadata": {
        "id": "MnbV2Ov1VZn1"
      },
      "execution_count": null,
      "outputs": []
    },
    {
      "cell_type": "markdown",
      "source": [
        "# Tracing the entire forward pass of the Scripted Model"
      ],
      "metadata": {
        "id": "-UUmgz7azl7x"
      }
    },
    {
      "cell_type": "code",
      "source": [
        "model_trace_scripted = torch.jit.trace(model, (dummy_input_gpu))  \n",
        "print(model_trace_scripted.code)\n",
        "\n"
      ],
      "metadata": {
        "id": "MWuLBkQoVe3N"
      },
      "execution_count": null,
      "outputs": []
    },
    {
      "cell_type": "markdown",
      "source": [
        "# Further Optimization of TorchScript Model ??"
      ],
      "metadata": {
        "id": "7S_DUJcMzqHw"
      }
    },
    {
      "cell_type": "code",
      "source": [
        "frozen_mod = torch.jit.optimize_for_inference(model_scripted)"
      ],
      "metadata": {
        "id": "3jDJP9otXdQg"
      },
      "execution_count": null,
      "outputs": []
    },
    {
      "cell_type": "code",
      "source": [
        "print(\"Average runtime of Pytorch Model in CPU: \" + str(np.mean([timer(model,dummy_input) for _ in range(10)])))\n",
        "print(\"Average runtime of TorchScript Model in CPU: \" + str(np.mean([timer(model_scripted,dummy_input) for _ in range(10)])))\n",
        "print(\"Average runtime of Optimized Frozen Model in CPU: \" + str(np.mean([timer(frozen_mod,dummy_input) for _ in range(10)])))"
      ],
      "metadata": {
        "colab": {
          "base_uri": "https://localhost:8080/"
        },
        "id": "DW2_RoanYxCg",
        "outputId": "cb06a2d8-3ea9-4c5f-d8d5-75bfbbd26e4b"
      },
      "execution_count": null,
      "outputs": [
        {
          "output_type": "stream",
          "name": "stdout",
          "text": [
            "Average runtime of Pytorch Model in CPU: 132.05410810000444\n",
            "Average runtime of TorchScript Model in CPU: 101.92786839999712\n",
            "Average runtime of Optimized Frozen Model in CPU: 57.239240899986044\n"
          ]
        }
      ]
    },
    {
      "cell_type": "code",
      "source": [],
      "metadata": {
        "id": "_UpyKze1Y4QT"
      },
      "execution_count": null,
      "outputs": []
    }
  ]
}